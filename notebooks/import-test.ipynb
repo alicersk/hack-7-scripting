{
 "cells": [
  {
   "cell_type": "code",
   "execution_count": 1,
   "id": "lovely-engagement",
   "metadata": {},
   "outputs": [
    {
     "name": "stdout",
     "output_type": "stream",
     "text": [
      "['/Users/alicesturm/hacks/hack-7-scripting/notebooks', '/Users/alicesturm/miniconda3/lib/python38.zip', '/Users/alicesturm/miniconda3/lib/python3.8', '/Users/alicesturm/miniconda3/lib/python3.8/lib-dynload', '', '/Users/alicesturm/miniconda3/lib/python3.8/site-packages', '/Users/alicesturm/miniconda3/lib/python3.8/site-packages/IPython/extensions', '/Users/alicesturm/.ipython']\n"
     ]
    }
   ],
   "source": [
    "import sys\n",
    "print(sys.path)"
   ]
  },
  {
   "cell_type": "code",
   "execution_count": 2,
   "id": "separated-speaker",
   "metadata": {},
   "outputs": [
    {
     "name": "stdout",
     "output_type": "stream",
     "text": [
      "['/Users/alicesturm/hacks/hack-7-scripting/notebooks', '/Users/alicesturm/miniconda3/lib/python38.zip', '/Users/alicesturm/miniconda3/lib/python3.8', '/Users/alicesturm/miniconda3/lib/python3.8/lib-dynload', '', '/Users/alicesturm/miniconda3/lib/python3.8/site-packages', '/Users/alicesturm/miniconda3/lib/python3.8/site-packages/IPython/extensions', '/Users/alicesturm/.ipython', '..']\n"
     ]
    }
   ],
   "source": [
    "sys.path.append(\"..\")\n",
    "print(sys.path)"
   ]
  },
  {
   "cell_type": "code",
   "execution_count": 8,
   "id": "awful-bidder",
   "metadata": {},
   "outputs": [
    {
     "data": {
      "text/plain": [
       "'It is decidedly so.'"
      ]
     },
     "execution_count": 8,
     "metadata": {},
     "output_type": "execute_result"
    }
   ],
   "source": [
    "import mypackage.mymodule\n",
    "mypackage.mymodule.magic_eight_ball()\n",
    "\n"
   ]
  },
  {
   "cell_type": "code",
   "execution_count": 4,
   "id": "lonely-grant",
   "metadata": {},
   "outputs": [],
   "source": [
    "import mypackage\n",
    "mypackage?\n"
   ]
  },
  {
   "cell_type": "code",
   "execution_count": 7,
   "id": "consistent-principle",
   "metadata": {},
   "outputs": [
    {
     "data": {
      "text/plain": [
       "'Reply hazy, try again.'"
      ]
     },
     "execution_count": 7,
     "metadata": {},
     "output_type": "execute_result"
    }
   ],
   "source": [
    "import mypackage\n",
    "mypackage.mymodule.magic_eight_ball()\n",
    "\n"
   ]
  },
  {
   "cell_type": "code",
   "execution_count": 9,
   "id": "tough-hammer",
   "metadata": {},
   "outputs": [
    {
     "data": {
      "text/plain": [
       "'Better not tell you now.'"
      ]
     },
     "execution_count": 9,
     "metadata": {},
     "output_type": "execute_result"
    }
   ],
   "source": [
    "from mypackage.mymodule import magic_eight_ball\n",
    "magic_eight_ball()"
   ]
  },
  {
   "cell_type": "code",
   "execution_count": null,
   "id": "interesting-schema",
   "metadata": {},
   "outputs": [],
   "source": []
  }
 ],
 "metadata": {
  "kernelspec": {
   "display_name": "Python 3",
   "language": "python",
   "name": "python3"
  },
  "language_info": {
   "codemirror_mode": {
    "name": "ipython",
    "version": 3
   },
   "file_extension": ".py",
   "mimetype": "text/x-python",
   "name": "python",
   "nbconvert_exporter": "python",
   "pygments_lexer": "ipython3",
   "version": "3.8.5"
  }
 },
 "nbformat": 4,
 "nbformat_minor": 5
}
